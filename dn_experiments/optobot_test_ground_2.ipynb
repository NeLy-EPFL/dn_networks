{
 "cells": [
  {
   "cell_type": "code",
   "execution_count": 8,
   "metadata": {},
   "outputs": [],
   "source": [
    "import os\n",
    "import pandas as pd\n",
    "import numpy as np\n",
    "import matplotlib.pyplot as plt\n",
    "from scipy.signal import savgol_filter\n",
    "from scipy.stats import ttest_ind, ks_2samp\n"
   ]
  },
  {
   "cell_type": "code",
   "execution_count": 9,
   "metadata": {},
   "outputs": [],
   "source": [
    "#exp_paradigm = '/mnt/labserver/HURTAK_Femke/Experimental_data/Optogenetics/Optobot/web/CsChrimson/231129_red_light'\n",
    "#exp_paradigm = '/mnt/labserver/HURTAK_Femke/Experimental_data/Optogenetics/Optobot/web/GtACR2/231208_blue_light'\n",
    "#exp_paradigm = '/mnt/labserver/HURTAK_Femke/Experimental_data/Optogenetics/Optobot/web/GtACR2/231208_blue_light_afternoon'\n",
    "#exp_paradigm = '/mnt/labserver/HURTAK_Femke/Experimental_data/Optogenetics/Optobot/web/GtACR2/231219_blue_light_and_light_on'\n",
    "#exp_paradigm = '/mnt/labserver/HURTAK_Femke/Experimental_data/Optogenetics/Optobot/CantonS/GtACR2/231219_light_off'\n",
    "#exp_paradigm = '/mnt/labserver/HURTAK_Femke/Experimental_data/Optogenetics/Optobot/CantonS/GtACR2/231219_light_on'\n",
    "#exp_paradigm = '/mnt/labserver/HURTAK_Femke/Experimental_data/Optogenetics/Optobot/G7/GtACR2/231129_blue_light'\n",
    "exp_paradigm = '/mnt/labserver/HURTAK_Femke/Experimental_data/Optogenetics/Optobot/MDN/CsChrimson/231208'"
   ]
  },
  {
   "cell_type": "code",
   "execution_count": 10,
   "metadata": {},
   "outputs": [],
   "source": [
    "def check_and_add_stimulation(data, initial_delay=10, on_duration=5, off_duration=15, repetitions=6, fps=80):\n",
    "    # check if the data frame has a column 'stimulation'\n",
    "    if 'stimulation' not in data.columns:\n",
    "        data['stimulation'] = 0\n",
    "    # if the stimulation is only zeros, add the stimulation\n",
    "    if np.all(data['stimulation'] == 0):\n",
    "        # create a list with the stimulation: '1' for on, '0' for off\n",
    "        stimulation = [0]*initial_delay*fps + [1]*on_duration*fps + [0]*off_duration*fps\n",
    "        stimulation = stimulation*repetitions\n",
    "        stimulation = np.array(stimulation)\n",
    "        data['stimulation'] = stimulation\n",
    "\n",
    "    return data\n",
    "\n",
    "def add_dlc_data(data, data_path, stim_data):\n",
    "    # add a column 'stimulation' to the data frame, where the value is 1 if the\n",
    "    # stimulus was on and 0 if the stimulus was off.\n",
    "    dlc_data_path = os.path.join(data_path, 'resultsDLC')\n",
    "    data['stimulation'] = 0\n",
    "    # Add dlc data to the data frame\n",
    "    start_frame = stim_data['fly0'][stim_data['stimulation_paradigm'][0]]['startFrame']\n",
    "    end_frame = stim_data['fly0'][stim_data['stimulation_paradigm'][0]]['stopFrame']\n",
    "    if 'on' in stim_data['stimulation_paradigm'][0]:\n",
    "        data.loc[start_frame:end_frame, 'stimulation'] = 1\n",
    "        # add DLC data\n",
    "    # find file starting with 'vid_p6-0_' + stim and ending with '.h5'\n",
    "    dlc_file = [f for f in os.listdir(dlc_data_path) if f.startswith('vid_p6-0_' + stim_data['stimulation_paradigm'][0]) and f.endswith('.h5')]\n",
    "    dlc_data = pd.read_hdf(os.path.join(dlc_data_path, dlc_file[0]))\n",
    "    # remove the first level of columns indexing\n",
    "    dlc_data.columns = dlc_data.columns.droplevel(0)\n",
    "    # set index from start_frame to end_frame\n",
    "    dlc_data = dlc_data.set_index(np.arange(start_frame, end_frame))\n",
    "    # add the dlc data to the data frame\n",
    "    data = data.join(dlc_data)\n",
    "    del dlc_file, dlc_data\n",
    "\n",
    "\n",
    "    if len(stim_data['stimulation_paradigm']) == 1:\n",
    "        return data\n",
    "    \n",
    "    for stim in stim_data['stimulation_paradigm'][1:]: # list on 'off0', 'on0', 'off1', 'on1', ...\n",
    "        start_frame = stim_data['fly0'][stim]['startFrame']\n",
    "        end_frame = stim_data['fly0'][stim]['stopFrame']\n",
    "        if 'on' in stim:\n",
    "            data.loc[start_frame:end_frame, 'stimulation'] = 1\n",
    "            # add DLC data\n",
    "        # find file starting with 'vid_p6-0_' + stim and ending with '.h5'\n",
    "        dlc_file = [f for f in os.listdir(dlc_data_path) if f.startswith('vid_p6-0_' + stim) and f.endswith('.h5')]\n",
    "        dlc_data = pd.read_hdf(os.path.join(dlc_data_path, dlc_file[0]))\n",
    "        # remove the first level of columns indexing\n",
    "        dlc_data.columns = dlc_data.columns.droplevel(0)\n",
    "        # set index from start_frame to end_frame\n",
    "        dlc_data = dlc_data.set_index(np.arange(start_frame, end_frame))\n",
    "        # rename the index to 'frame'\n",
    "        dlc_data.index.names = ['frame']\n",
    "        # add the dlc data to the data frame\n",
    "        data.iloc[start_frame:end_frame, :].loc[:,dlc_data.columns] = dlc_data\n",
    "        del dlc_file, dlc_data\n",
    "\n",
    "    return data\n",
    "\n",
    "def tracking_motion_energy(data):\n",
    "    # calculate the motion energy of the legs\n",
    "    # data is a pandas dataframe with the columns containing the x and y\n",
    "    # coordinates of the legs\n",
    "    # returns a pandas dataframe with the motion energy of each leg\n",
    "    # the motion energy is calculated as the sum of the squared differences\n",
    "    # between the coordinates of the leg in the current frame and the\n",
    "    # coordinates of the leg in the previous frame\n",
    "    for point in data.columns.levels[0][1:-1]:\n",
    "        dx = data.loc[:, (point, 'x')].diff()\n",
    "        dx = dx.fillna(0)\n",
    "        dy = data.loc[:, (point, 'y')].diff()\n",
    "        dy = dy.fillna(0)\n",
    "        me = dx.values**2 + dy.values**2\n",
    "        # create a new column\n",
    "        data.loc[:,(point,'me')] = me\n",
    "    # sort the columns by the first level\n",
    "    data = data.sort_index(axis=1)\n",
    "    return data\n",
    "\n",
    "def tracking_velocity(data):\n",
    "    '''\n",
    "    Adds a column to data with the velocity of the fly, computed as the\n",
    "    distance between the centroid of the fly in the current frame and the\n",
    "    centroid of the fly in the previous frame.\n",
    "    '''\n",
    "    # calculate the velocity of the fly\n",
    "    dx = data.loc[:, (0, 'pos_x')].diff()\n",
    "    dx = dx.fillna(0)\n",
    "    dy = data.loc[:, (0, 'pos_y')].diff()\n",
    "    dy = dy.fillna(0)\n",
    "    velocity = np.sqrt(dx.values**2 + dy.values**2)\n",
    "    # add the velocity to the data frame\n",
    "    data.loc[:, (0, 'velocity')] = velocity\n",
    "    # sort the columns by the first level\n",
    "    data = data.sort_index(axis=1)\n",
    "    return data\n",
    "\n",
    "\n",
    "def add_legs_motion_energy(data):\n",
    "    '''\n",
    "    Adds a column to data with the motion energy of the legs.\n",
    "    We sum the ME of the end effectors of all legs.\n",
    "    '''\n",
    "    list_legs = ['LFclaw', 'LMclaw', 'LHclaw', 'RFclaw', 'RMclaw', 'RHclaw']\n",
    "    # check if the columns are in the data frame\n",
    "    for leg in list_legs:\n",
    "        if leg not in data.columns.levels[0]:\n",
    "            print('The leg {} is not in the data frame'.format(leg))\n",
    "            return data\n",
    "    # calculate the motion energy of the legs\n",
    "    leg_me_subset = data.loc[:, (list_legs, 'me')]\n",
    "    leg_me = leg_me_subset.sum(axis=1)\n",
    "    # add the motion energy to the data frame\n",
    "    data.loc[:, ('legs', 'me')] = leg_me\n",
    "    # sort the columns by the first level\n",
    "    data = data.sort_index(axis=1)\n",
    "    return data\n",
    "\n",
    "def add_savgol_filtered_x_y(data):\n",
    "    '''\n",
    "    Adds columns to the data frame with the x and y coordinates filtered with\n",
    "    a Savitzky-Golay filter. Rename the initial x and y columns to x_raw and\n",
    "    y_raw.\n",
    "    '''\n",
    "    for point in data.columns.levels[0][1:-1]:\n",
    "        data.loc[:,(point,'x_raw')] = data.loc[:,(point,'x')]\n",
    "        data.loc[:,(point,'y_raw')] = data.loc[:,(point,'y')]\n",
    "        data.loc[:,(point,'x')] = savgol_filter(data.loc[:,(point,'x')], 51, 3)\n",
    "        data.loc[:,(point,'y')] = savgol_filter(data.loc[:,(point,'y')], 51, 3)\n",
    "    # sort the columns by the first level\n",
    "    data = data.sort_index(axis=1)\n",
    "    return data\n",
    "\n",
    "def load_data(data_path):\n",
    "    centroid_file_name_list = [f for f in os.listdir(data_path) if f.endswith('.pkl')]\n",
    "    if len(centroid_file_name_list) != 1:\n",
    "        print('There are {} files ending with .pkl in {}'.format(len(centroid_file_name_list), data_path))\n",
    "        return pd.DataFrame()\n",
    "    centroid_file_name = centroid_file_name_list[0]\n",
    "    centroid_file_path = os.path.join(data_path, centroid_file_name)\n",
    "    stimulation_file_name = 'experiment_dict.npy'\n",
    "    stimulation_file_path = os.path.join(data_path, stimulation_file_name)\n",
    "    stim_data = np.load(stimulation_file_path, allow_pickle=True).item()\n",
    "    data = pd.read_pickle(centroid_file_path)\n",
    "\n",
    "    try:\n",
    "        data = add_dlc_data(data, data_path, stim_data)\n",
    "    except:\n",
    "        print('Could not add DLC data')\n",
    "        return pd.DataFrame()\n",
    "\n",
    "    data = check_and_add_stimulation(data, initial_delay=25, on_duration=5, off_duration=0, repetitions=6, fps=80)\n",
    "    #data = check_and_add_stimulation(data)\n",
    "\n",
    "    data = add_savgol_filtered_x_y(data)\n",
    "    \n",
    "    data = tracking_motion_energy(data)\n",
    "    \n",
    "    data = tracking_velocity(data)\n",
    "\n",
    "    data = add_legs_motion_energy(data)\n",
    "\n",
    "    return data"
   ]
  },
  {
   "cell_type": "code",
   "execution_count": 11,
   "metadata": {},
   "outputs": [],
   "source": [
    "def stat_test_sign(p):\n",
    "    if p <0.001:\n",
    "        return '***'\n",
    "    elif p < 0.01:\n",
    "        return '**'\n",
    "    elif p < 0.05:\n",
    "        return '*'\n",
    "    else:\n",
    "        return 'ns'\n",
    "\n",
    "def get_on_off_entry(data, level1 = 'legs', level2 = 'me',duration=5,fps=80):\n",
    "    '''\n",
    "    Returns a dataframe with the average and std of motion energy of the legs\n",
    "    when the stimulus is on and off, separating everytime the stimulus is on\n",
    "    and off.\n",
    "\n",
    "    Returns:\n",
    "    -------\n",
    "    on_off_me: dataframe\n",
    "        dataframe with 3 columns: 'stimulation', 'me', 'std'\n",
    "        each row is a different stimulation period\n",
    "    '''\n",
    "    # get the stimulation periods\n",
    "    stim = data['stimulation']\n",
    "    stim_diff = np.diff(stim)\n",
    "    stim_on = np.where(stim_diff == 1)[0]\n",
    "    # create a dataframe with the average and std of the measured features\n",
    "    # when the stimulus is on and off\n",
    "    on_off_me = pd.DataFrame(columns=['stimulation', level2, 'std', 'nb_pts'])\n",
    "    for i in range(len(stim_on)):\n",
    "        me_on = data.loc[stim_on[i]:stim_on[i]+duration*fps, (level1, level2)]\n",
    "        on_off_me.loc[i, 'stimulation'] = 1\n",
    "        on_off_me.loc[i, level2] = me_on.mean()\n",
    "        on_off_me.loc[i, 'std'] = me_on.std()\n",
    "        on_off_me.loc[i, 'nb_pts'] = len(me_on)\n",
    "    index = len(stim_on)\n",
    "    for i in range(len(stim_on)):\n",
    "        me_off = data.loc[stim_on[i]-duration*fps:stim_on[i], (level1, level2)]\n",
    "        on_off_me.loc[i+index, 'stimulation'] = 0\n",
    "        on_off_me.loc[i+index, level2] = me_off.mean()\n",
    "        on_off_me.loc[i+index, 'std'] = me_off.std()\n",
    "        on_off_me.loc[i+index, 'nb_pts'] = len(me_off)\n",
    "    return on_off_me\n",
    "    \n"
   ]
  },
  {
   "cell_type": "code",
   "execution_count": 12,
   "metadata": {},
   "outputs": [],
   "source": [
    "# find all the folders in the experiment paradigm folder\n",
    "folders = [f for f in os.listdir(exp_paradigm) if os.path.isdir(os.path.join(exp_paradigm, f))]"
   ]
  },
  {
   "cell_type": "code",
   "execution_count": 13,
   "metadata": {},
   "outputs": [
    {
     "name": "stdout",
     "output_type": "stream",
     "text": [
      "There are 0 files ending with .pkl in /mnt/labserver/HURTAK_Femke/Experimental_data/Optogenetics/Optobot/MDN/CsChrimson/231208/151132_s2a9_p6-0\n"
     ]
    },
    {
     "name": "stderr",
     "output_type": "stream",
     "text": [
      "/tmp/ipykernel_15117/1086886887.py:116: PerformanceWarning: DataFrame is highly fragmented.  This is usually the result of calling `frame.insert` many times, which has poor performance.  Consider joining all columns at once using pd.concat(axis=1) instead. To get a de-fragmented frame, use `newframe = frame.copy()`\n",
      "  data.loc[:, ('legs', 'me')] = leg_me\n",
      "/tmp/ipykernel_15117/1086886887.py:116: PerformanceWarning: DataFrame is highly fragmented.  This is usually the result of calling `frame.insert` many times, which has poor performance.  Consider joining all columns at once using pd.concat(axis=1) instead. To get a de-fragmented frame, use `newframe = frame.copy()`\n",
      "  data.loc[:, ('legs', 'me')] = leg_me\n",
      "/tmp/ipykernel_15117/1086886887.py:116: PerformanceWarning: DataFrame is highly fragmented.  This is usually the result of calling `frame.insert` many times, which has poor performance.  Consider joining all columns at once using pd.concat(axis=1) instead. To get a de-fragmented frame, use `newframe = frame.copy()`\n",
      "  data.loc[:, ('legs', 'me')] = leg_me\n"
     ]
    },
    {
     "name": "stdout",
     "output_type": "stream",
     "text": [
      "Could not add DLC data\n"
     ]
    },
    {
     "name": "stderr",
     "output_type": "stream",
     "text": [
      "/tmp/ipykernel_15117/1086886887.py:116: PerformanceWarning: DataFrame is highly fragmented.  This is usually the result of calling `frame.insert` many times, which has poor performance.  Consider joining all columns at once using pd.concat(axis=1) instead. To get a de-fragmented frame, use `newframe = frame.copy()`\n",
      "  data.loc[:, ('legs', 'me')] = leg_me\n"
     ]
    }
   ],
   "source": [
    "on_off_me = pd.DataFrame(columns=['stimulation', 'me', 'std', 'nb_pts'])\n",
    "for folder in folders:\n",
    "    data = load_data(os.path.join(exp_paradigm, folder))\n",
    "    if data.empty:\n",
    "        continue\n",
    "    on_off_me_exp = get_on_off_entry(data, level1 = 'legs', level2 = 'me')\n",
    "\n",
    "    # join the two dataframes\n",
    "    on_off_me = pd.concat([on_off_me, on_off_me_exp], ignore_index=True)\n",
    "    "
   ]
  },
  {
   "cell_type": "code",
   "execution_count": 14,
   "metadata": {},
   "outputs": [
    {
     "data": {
      "text/plain": [
       "<matplotlib.legend.Legend at 0x7fe5c7415c40>"
      ]
     },
     "execution_count": 14,
     "metadata": {},
     "output_type": "execute_result"
    },
    {
     "data": {
      "image/png": "[encoded data removed]",
      "text/plain": [
       "<Figure size 640x480 with 1 Axes>"
      ]
     },
     "metadata": {},
     "output_type": "display_data"
    }
   ],
   "source": [
    "# make a boxplot of the motion energy when the stimulus is on and off\n",
    "plt.figure()\n",
    "plt.boxplot([on_off_me[on_off_me['stimulation']==0]['me'], on_off_me[on_off_me['stimulation']==1]['me']])\n",
    "plt.xticks([1,2], ['off', 'on'])\n",
    "#plt.ylim([0, 500])\n",
    "plt.ylabel('Leg motion energy')\n",
    "plt.title('Leg motion energy when the stimulus is on and off')\n",
    "# add a legend with the p value\n",
    "A = on_off_me[on_off_me['stimulation']==0]['me'].values\n",
    "B = on_off_me[on_off_me['stimulation']==1]['me'].values\n",
    "p_value = ks_2samp(\n",
    "    A,\n",
    "    B,\n",
    "    )[1]\n",
    "plt.legend([stat_test_sign(p_value)], loc='upper right')\n",
    "#plt.savefig(os.path.join(exp_paradigm, 'motion_energy_on_off.png'))\n"
   ]
  },
  {
   "cell_type": "code",
   "execution_count": 15,
   "metadata": {},
   "outputs": [
    {
     "name": "stdout",
     "output_type": "stream",
     "text": [
      "There are 0 files ending with .pkl in /mnt/labserver/HURTAK_Femke/Experimental_data/Optogenetics/Optobot/MDN/CsChrimson/231208/151132_s2a9_p6-0\n"
     ]
    },
    {
     "name": "stderr",
     "output_type": "stream",
     "text": [
      "/tmp/ipykernel_15117/1086886887.py:116: PerformanceWarning: DataFrame is highly fragmented.  This is usually the result of calling `frame.insert` many times, which has poor performance.  Consider joining all columns at once using pd.concat(axis=1) instead. To get a de-fragmented frame, use `newframe = frame.copy()`\n",
      "  data.loc[:, ('legs', 'me')] = leg_me\n",
      "/tmp/ipykernel_15117/1086886887.py:116: PerformanceWarning: DataFrame is highly fragmented.  This is usually the result of calling `frame.insert` many times, which has poor performance.  Consider joining all columns at once using pd.concat(axis=1) instead. To get a de-fragmented frame, use `newframe = frame.copy()`\n",
      "  data.loc[:, ('legs', 'me')] = leg_me\n",
      "/tmp/ipykernel_15117/1086886887.py:116: PerformanceWarning: DataFrame is highly fragmented.  This is usually the result of calling `frame.insert` many times, which has poor performance.  Consider joining all columns at once using pd.concat(axis=1) instead. To get a de-fragmented frame, use `newframe = frame.copy()`\n",
      "  data.loc[:, ('legs', 'me')] = leg_me\n"
     ]
    },
    {
     "name": "stdout",
     "output_type": "stream",
     "text": [
      "Could not add DLC data\n"
     ]
    },
    {
     "name": "stderr",
     "output_type": "stream",
     "text": [
      "/tmp/ipykernel_15117/1086886887.py:116: PerformanceWarning: DataFrame is highly fragmented.  This is usually the result of calling `frame.insert` many times, which has poor performance.  Consider joining all columns at once using pd.concat(axis=1) instead. To get a de-fragmented frame, use `newframe = frame.copy()`\n",
      "  data.loc[:, ('legs', 'me')] = leg_me\n"
     ]
    }
   ],
   "source": [
    "on_off_me = pd.DataFrame(columns=['stimulation', 'velocity', 'std', 'nb_pts'])\n",
    "for folder in folders:\n",
    "    data = load_data(os.path.join(exp_paradigm, folder))\n",
    "    if data.empty:\n",
    "        continue\n",
    "    #on_off_me_exp = get_on_of_entry(data, level1 = 'legs', level2 = 'me')\n",
    "    on_off_vel_exp = get_on_off_entry(data,level1=0,level2='velocity')\n",
    "\n",
    "    # join the two dataframes\n",
    "    on_off_me = pd.concat([on_off_me, on_off_vel_exp], ignore_index=True)"
   ]
  },
  {
   "cell_type": "code",
   "execution_count": 16,
   "metadata": {},
   "outputs": [
    {
     "data": {
      "text/plain": [
       "<matplotlib.legend.Legend at 0x7fe5c6be4500>"
      ]
     },
     "execution_count": 16,
     "metadata": {},
     "output_type": "execute_result"
    },
    {
     "data": {
      "image/png": "[encoded data removed]",
      "text/plain": [
       "<Figure size 640x480 with 1 Axes>"
      ]
     },
     "metadata": {},
     "output_type": "display_data"
    }
   ],
   "source": [
    "\n",
    "\n",
    "# make a boxplot of the motion energy when the stimulus is on and off\n",
    "plt.figure()\n",
    "plt.boxplot([on_off_me[on_off_me['stimulation']==0]['velocity'], on_off_me[on_off_me['stimulation']==1]['velocity']])\n",
    "plt.xticks([1,2], ['off', 'on'])\n",
    "#plt.ylim([0, 500])\n",
    "plt.ylabel('Velocity')\n",
    "plt.title('Velocity when the stimulus is on and off')\n",
    "# add a legend with the p value\n",
    "A = on_off_me[on_off_me['stimulation']==0]['velocity'].values\n",
    "B = on_off_me[on_off_me['stimulation']==1]['velocity'].values\n",
    "p_value = ks_2samp(\n",
    "    A,\n",
    "    B,\n",
    "    )[1]\n",
    "plt.legend([stat_test_sign(p_value)], loc='upper right')\n",
    "#plt.savefig(os.path.join(exp_paradigm, 'motion_energy_on_off.png'))\n",
    "\n"
   ]
  }
 ],
 "metadata": {
  "kernelspec": {
   "display_name": "optobot_data",
   "language": "python",
   "name": "python3"
  },
  "language_info": {
   "codemirror_mode": {
    "name": "ipython",
    "version": 3
   },
   "file_extension": ".py",
   "mimetype": "text/x-python",
   "name": "python",
   "nbconvert_exporter": "python",
   "pygments_lexer": "ipython3",
   "version": "3.12.0"
  }
 },
 "nbformat": 4,
 "nbformat_minor": 2
}
